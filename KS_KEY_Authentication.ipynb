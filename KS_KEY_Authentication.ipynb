{
  "nbformat": 4,
  "nbformat_minor": 0,
  "metadata": {
    "colab": {
      "provenance": [],
      "authorship_tag": "ABX9TyPqrUVsC9vby95uZukFGP2m"
    },
    "kernelspec": {
      "name": "python3",
      "display_name": "Python 3"
    },
    "language_info": {
      "name": "python"
    }
  },
  "cells": [
    {
      "cell_type": "code",
      "execution_count": 1,
      "metadata": {
        "id": "Fz0SAw9r1t2s",
        "colab": {
          "base_uri": "https://localhost:8080/"
        },
        "outputId": "36a0d2b9-935d-493c-80e6-299e77e7cd15"
      },
      "outputs": [
        {
          "output_type": "stream",
          "name": "stdout",
          "text": [
            "== REGISTER USER ==\n",
            "Enter username: Yunus\n",
            "Create password: 112233\n",
            "User 'Yunus' registered with hashed key.\n",
            "\n",
            "== USER LOGIN ==\n",
            "Enter username: Yunus\n",
            "Enter password: 112233\n",
            "[DEBUG] OTP sent via email: 169015\n",
            "Enter the OTP: 169015\n",
            "[✔] Login successful.\n"
          ]
        }
      ],
      "source": [
        "import hashlib\n",
        "import random\n",
        "import time\n",
        "\n",
        "# KS-KEY algorithm\n",
        "def ks_key_algorithm(character_password):\n",
        "    if not character_password:\n",
        "        raise ValueError(\"Character password cannot be empty\")\n",
        "\n",
        "    key = \"\"\n",
        "    for char in character_password:\n",
        "        if char in '01':\n",
        "            temp = \"\"\n",
        "            for key_bit in key:\n",
        "                if key_bit in '01':\n",
        "                    xor_result = str(int(key_bit) ^ int(char))\n",
        "                    temp += xor_result\n",
        "                else:\n",
        "                    temp += key_bit\n",
        "            key = temp + char\n",
        "        else:\n",
        "            ascii_value = ord(char)\n",
        "            binary_value = format(ascii_value, '08b')\n",
        "            key += binary_value\n",
        "    return key\n",
        "\n",
        "# OTP generator\n",
        "def generate_otp():\n",
        "    return str(random.randint(100000, 999999))\n",
        "\n",
        "# Simulated OTP sender\n",
        "def send_otp(otp, method=\"email\"):\n",
        "    print(f\"[DEBUG] OTP sent via {method}: {otp}\")\n",
        "\n",
        "# Register a user\n",
        "def register_user(username, password, database):\n",
        "    key = ks_key_algorithm(password)\n",
        "    key_hash = hashlib.sha256(key.encode()).hexdigest()\n",
        "    database[username] = {\n",
        "        \"key_hash\": key_hash\n",
        "    }\n",
        "    print(f\"User '{username}' registered with hashed key.\")\n",
        "\n",
        "# Authenticate a user\n",
        "def authenticate_user(username, password, database):\n",
        "    user_data = database.get(username)\n",
        "    if not user_data:\n",
        "        return False, \"User not found.\"\n",
        "\n",
        "    # Regenerate key from input\n",
        "    key = ks_key_algorithm(password)\n",
        "    key_hash = hashlib.sha256(key.encode()).hexdigest()\n",
        "\n",
        "    if key_hash != user_data['key_hash']:\n",
        "        return False, \"Key authentication failed.\"\n",
        "\n",
        "    # Proceed with OTP\n",
        "    otp = generate_otp()\n",
        "    send_otp(otp)\n",
        "    entered_otp = input(\"Enter the OTP: \").strip()\n",
        "    if entered_otp != otp:\n",
        "        return False, \"OTP verification failed.\"\n",
        "\n",
        "    return True, \"Authentication successful.\"\n",
        "\n",
        "# Main\n",
        "if __name__ == \"__main__\":\n",
        "    database = {}\n",
        "\n",
        "    print(\"== REGISTER USER ==\")\n",
        "    username = input(\"Enter username: \").strip()\n",
        "    password = input(\"Create password: \").strip()\n",
        "    register_user(username, password, database)\n",
        "\n",
        "    print(\"\\n== USER LOGIN ==\")\n",
        "    username = input(\"Enter username: \").strip()\n",
        "    password = input(\"Enter password: \").strip()\n",
        "    success, message = authenticate_user(username, password, database)\n",
        "\n",
        "    if success:\n",
        "        print(\"[✔] Login successful.\")\n",
        "    else:\n",
        "        print(f\"[✘] Login failed: {message}\")\n"
      ]
    }
  ]
}